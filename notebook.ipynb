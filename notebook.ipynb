{
  "cells": [
    {
      "cell_type": "code",
      "execution_count": 8,
      "metadata": {},
      "outputs": [],
      "source": [
        "import os\n",
        "import numpy as np\n",
        "import pandas as pd\n",
        "import matplotlib.pyplot as plt\n",
        "from sklearn.metrics import accuracy_score"
      ]
    },
    {
      "cell_type": "markdown",
      "metadata": {},
      "source": [
        "## Generate the Data Matrix and the Label vector\n"
      ]
    },
    {
      "cell_type": "code",
      "execution_count": 12,
      "metadata": {},
      "outputs": [
        {
          "name": "stdout",
          "output_type": "stream",
          "text": [
            "9120\n",
            "(125, 45)\n"
          ]
        }
      ],
      "source": [
        "paths = []\n",
        "range_of_a = [str(i).zfill(2) for i in np.arange(1, 20, 1)]\n",
        "range_of_p = [str(i).zfill(1) for i in np.arange(1, 9, 1)]\n",
        "range_of_s = [str(i).zfill(2) for i in np.arange(1, 61, 1)]\n",
        "\n",
        "\n",
        "for a in range_of_a:\n",
        "    for p in range_of_p:\n",
        "        for s in range_of_s:\n",
        "            paths.append(f\"dataset/a{a}/p{p}/s{s}.txt\")\n",
        "\n",
        "print(len(paths))\n",
        "data = pd.read_csv(paths[0], header=None)\n",
        "print(data.shape)"
      ]
    },
    {
      "cell_type": "code",
      "execution_count": 10,
      "metadata": {},
      "outputs": [],
      "source": [
        "X = []\n",
        "y = []"
      ]
    }
  ],
  "metadata": {
    "kernelspec": {
      "display_name": "Python 3",
      "language": "python",
      "name": "python3"
    },
    "language_info": {
      "codemirror_mode": {
        "name": "ipython",
        "version": 3
      },
      "file_extension": ".py",
      "mimetype": "text/x-python",
      "name": "python",
      "nbconvert_exporter": "python",
      "pygments_lexer": "ipython3",
      "version": "3.10.12"
    }
  },
  "nbformat": 4,
  "nbformat_minor": 2
}

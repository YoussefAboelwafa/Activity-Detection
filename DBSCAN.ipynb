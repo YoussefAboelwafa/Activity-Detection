{
 "cells": [
  {
   "cell_type": "code",
   "execution_count": null,
   "metadata": {},
   "outputs": [],
   "source": [
    "import numpy as np\n",
    "import pandas as pd\n",
    "from sklearn.cluster import DBSCAN\n",
    "from DataMatrix import generate_data_matrix\n",
    "from scipy.optimize import linear_sum_assignment\n",
    "from sklearn.metrics import confusion_matrix\n",
    "from sklearn.metrics import (\n",
    "    precision_score,\n",
    "    recall_score,\n",
    "    f1_score,\n",
    "    confusion_matrix,\n",
    ")\n",
    "\n",
    "import warnings\n",
    "\n",
    "warnings.filterwarnings(\"ignore\")"
   ]
  },
  {
   "cell_type": "code",
   "execution_count": null,
   "metadata": {},
   "outputs": [],
   "source": [
    "X_train1, y_train1, X_test1, y_test1 = generate_data_matrix(method=\"mean\")\n",
    "X_train2, y_train2, X_test2, y_test2 = generate_data_matrix(method=\"flatten\")\n",
    "n_samples = 7\n",
    "eps = 2.7\n",
    "\n",
    "print(\"X_train shape: \", X_train1.shape)\n",
    "print(\"y_train shape: \", y_train1.shape)\n",
    "print(\"X_test shape: \", X_test1.shape)\n",
    "print(\"y_test shape: \", y_test1.shape)"
   ]
  },
  {
   "cell_type": "markdown",
   "metadata": {},
   "source": [
    "### DBSCAN Algorithm\n"
   ]
  },
  {
   "cell_type": "code",
   "execution_count": null,
   "metadata": {},
   "outputs": [],
   "source": [
    "def get_DBSCAN(X, min_samples, eps):\n",
    "    # Initialize labels\n",
    "    labels = np.zeros(X.shape[0])\n",
    "\n",
    "    # C is the cluster counter\n",
    "    C = 0\n",
    "    for i in range(X.shape[0]):\n",
    "\n",
    "        # Skip if already labeled\n",
    "        if labels[i] != 0:\n",
    "            continue\n",
    "\n",
    "        # Find neighbors within eps\n",
    "        neighbors = np.where(np.linalg.norm(X - X[i], axis=1) <= eps)[0]\n",
    "\n",
    "        # Mark as noise\n",
    "        if len(neighbors) < min_samples:\n",
    "            labels[i] = -1\n",
    "            continue\n",
    "\n",
    "        # New cluster\n",
    "        C += 1\n",
    "\n",
    "        # Assign cluster label to point\n",
    "        labels[i] = C\n",
    "\n",
    "        # Set of points to expand\n",
    "        S = list(neighbors)\n",
    "\n",
    "        i = 0\n",
    "        while i < len(S):\n",
    "            j = S[i]\n",
    "            if labels[j] == -1:\n",
    "                labels[j] = C\n",
    "            elif labels[j] == 0:\n",
    "                labels[j] = C\n",
    "                neighbors_j = np.where(np.linalg.norm(X - X[j], axis=1) <= eps)[0]\n",
    "                if len(neighbors_j) >= min_samples:\n",
    "                    S += list(set(neighbors_j) - set(S))\n",
    "            i += 1\n",
    "\n",
    "    return labels"
   ]
  },
  {
   "cell_type": "markdown",
   "metadata": {},
   "source": [
    "#### Labels Mapping Function with Ground Truth Labels\n"
   ]
  },
  {
   "cell_type": "code",
   "execution_count": null,
   "metadata": {},
   "outputs": [],
   "source": [
    "def map_labels(y_true, y_pred):\n",
    "    # Create a confusion matrix\n",
    "    D = confusion_matrix(y_true, y_pred)\n",
    "\n",
    "    # Swap the rows and columns of the confusion matrix to match the labels\n",
    "    rows, cols = linear_sum_assignment(D, maximize=True)\n",
    "\n",
    "    # Create a dictionary to map the labels\n",
    "    label_map = {col: row for row, col in zip(rows, cols)}\n",
    "\n",
    "    # Map the labels in y_pred, skipping over any points that have a label of -1\n",
    "    y_pred = np.array([label_map[label] if label != -1 else -1 for label in y_pred])\n",
    "\n",
    "    return y_pred"
   ]
  },
  {
   "cell_type": "markdown",
   "metadata": {},
   "source": [
    "### Implemented DBSCAN"
   ]
  },
  {
   "cell_type": "markdown",
   "metadata": {},
   "source": [
    "#### Method 1 (Mean)"
   ]
  },
  {
   "cell_type": "code",
   "execution_count": null,
   "metadata": {},
   "outputs": [],
   "source": [
    "y_pred = get_DBSCAN(X_train1, n_samples, eps)\n",
    "y_pred_mapped = map_labels(y_train1, y_pred)\n",
    "\n",
    "# Compute the accuracy\n",
    "precision = precision_score(y_train1, y_pred_mapped, average=\"weighted\")\n",
    "recall = recall_score(y_train1, y_pred_mapped, average=\"weighted\")\n",
    "f1 = f1_score(y_train1, y_pred_mapped, average=\"weighted\")\n",
    "\n",
    "print(\"Implemented DBSCAN Evaluation Metrics:\")\n",
    "print(\"Precision: {:.3f}%\".format(precision * 100))\n",
    "print(\"Recall:    {:.3f}%\".format(recall * 100))\n",
    "print(\"F1-Score:  {:.3f}%\".format(f1 * 100))"
   ]
  },
  {
   "cell_type": "markdown",
   "metadata": {},
   "source": [
    "#### Method 2 (Flatten)"
   ]
  },
  {
   "cell_type": "code",
   "execution_count": null,
   "metadata": {},
   "outputs": [],
   "source": [
    "y_pred = get_DBSCAN(X_train2, n_samples, eps)\n",
    "y_pred_mapped = map_labels(y_train1, y_pred)\n",
    "\n",
    "# Compute the accuracy\n",
    "precision = precision_score(y_train2, y_pred_mapped, average=\"weighted\")\n",
    "recall = recall_score(y_train2, y_pred_mapped, average=\"weighted\")\n",
    "f1 = f1_score(y_train2, y_pred_mapped, average=\"weighted\")\n",
    "\n",
    "print(\"Implemented DBSCAN Evaluation Metrics:\")\n",
    "print(\"Precision: {:.3f}%\".format(precision * 100))\n",
    "print(\"Recall:    {:.3f}%\".format(recall * 100))\n",
    "print(\"F1-Score:  {:.3f}%\".format(f1 * 100))"
   ]
  },
  {
   "cell_type": "markdown",
   "metadata": {},
   "source": [
    "### DBSCAN in Scikit-Learn\n"
   ]
  },
  {
   "cell_type": "markdown",
   "metadata": {},
   "source": [
    "#### Method 1 (Mean)"
   ]
  },
  {
   "cell_type": "code",
   "execution_count": null,
   "metadata": {},
   "outputs": [],
   "source": [
    "dbscan1 = DBSCAN(eps=eps, min_samples=n_samples)\n",
    "\n",
    "# Fit the model to the data\n",
    "dbscan1.fit(X_train1)\n",
    "\n",
    "# Print the cluster labels for each data point\n",
    "y_pred_sklearn = dbscan1.labels_\n",
    "y_pred_sklearn_mapped = map_labels(y_train1, y_pred_sklearn)\n",
    "\n",
    "percision = precision_score(y_train1, y_pred_sklearn_mapped, average=\"weighted\")\n",
    "recall = recall_score(y_train1, y_pred_sklearn_mapped, average=\"weighted\")\n",
    "f1 = f1_score(y_train1, y_pred_sklearn_mapped, average=\"weighted\")\n",
    "\n",
    "print(\"Sklearn DBSCAN Evaluation Metrics:\")\n",
    "print(\"Precision: {:.3f}%\".format(precision * 100))\n",
    "print(\"Recall:    {:.3f}%\".format(recall * 100))\n",
    "print(\"F1-Score:  {:.3f}%\".format(f1 * 100))"
   ]
  },
  {
   "cell_type": "markdown",
   "metadata": {},
   "source": [
    "#### Method 2 (Flatten)"
   ]
  },
  {
   "cell_type": "code",
   "execution_count": null,
   "metadata": {},
   "outputs": [],
   "source": [
    "dbscan2 = DBSCAN(eps=eps, min_samples=n_samples)\n",
    "\n",
    "# Fit the model to the data\n",
    "dbscan2.fit(X_train2)\n",
    "\n",
    "# Print the cluster labels for each data point\n",
    "y_pred_sklearn = dbscan2.labels_\n",
    "y_pred_sklearn_mapped = map_labels(y_train2, y_pred_sklearn)\n",
    "\n",
    "percision = precision_score(y_train2, y_pred_sklearn_mapped, average=\"weighted\")\n",
    "recall = recall_score(y_train2, y_pred_sklearn_mapped, average=\"weighted\")\n",
    "f1 = f1_score(y_train2, y_pred_sklearn_mapped, average=\"weighted\")\n",
    "\n",
    "print(\"Sklearn DBSCAN Evaluation Metrics:\")\n",
    "print(\"Precision: {:.3f}%\".format(precision * 100))\n",
    "print(\"Recall:    {:.3f}%\".format(recall * 100))\n",
    "print(\"F1-Score:  {:.3f}%\".format(f1 * 100))"
   ]
  }
 ],
 "metadata": {
  "kernelspec": {
   "display_name": "tf",
   "language": "python",
   "name": "python3"
  },
  "language_info": {
   "codemirror_mode": {
    "name": "ipython",
    "version": 3
   },
   "file_extension": ".py",
   "mimetype": "text/x-python",
   "name": "python",
   "nbconvert_exporter": "python",
   "pygments_lexer": "ipython3",
   "version": "3.10.12"
  }
 },
 "nbformat": 4,
 "nbformat_minor": 2
}

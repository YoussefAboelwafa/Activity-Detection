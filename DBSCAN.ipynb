{
 "cells": [
  {
   "cell_type": "code",
   "execution_count": null,
   "metadata": {},
   "outputs": [],
   "source": [
    "import numpy as np\n",
    "from sklearn.cluster import DBSCAN\n",
    "from DataMatrix import generate_data_matrix\n",
    "from scipy.stats import mode\n",
    "from sklearn.metrics import (\n",
    "    precision_score,\n",
    "    recall_score,\n",
    "    f1_score,\n",
    ")\n",
    "\n",
    "import warnings\n",
    "\n",
    "warnings.filterwarnings(\"ignore\")"
   ]
  },
  {
   "cell_type": "code",
   "execution_count": null,
   "metadata": {},
   "outputs": [],
   "source": [
    "X_train1, y_train1, X_test1, y_test1 = generate_data_matrix(method=\"mean\")\n",
    "X_train2, y_train2, X_test2, y_test2 = generate_data_matrix(method=\"flatten\")\n",
    "\n",
    "X1 = X_test1\n",
    "y1 = y_test1\n",
    "X2 = X_test2\n",
    "y2 = y_test2\n",
    "\n",
    "number_of_clusters = 0\n",
    "\n",
    "print(\"X_test shape: \", X_test1.shape)\n",
    "print(\"y_train shape: \", y_train1.shape)\n",
    "print(\"X_test shape: \", X_test1.shape)\n",
    "print(\"y_test shape: \", y_test1.shape)"
   ]
  },
  {
   "cell_type": "markdown",
   "metadata": {},
   "source": [
    "### DBSCAN Algorithm\n"
   ]
  },
  {
   "cell_type": "code",
   "execution_count": null,
   "metadata": {},
   "outputs": [],
   "source": [
    "def get_DBSCAN(X, min_samples, eps):\n",
    "    # Initialize labels\n",
    "    labels = np.zeros(X.shape[0])\n",
    "\n",
    "    # C is the cluster counter\n",
    "    C = 0\n",
    "    for i in range(X.shape[0]):\n",
    "\n",
    "        # Skip if already labeled\n",
    "        if labels[i] != 0:\n",
    "            continue\n",
    "\n",
    "        # Find neighbors within eps\n",
    "        neighbors = np.where(np.linalg.norm(X - X[i], axis=1) <= eps)[0]\n",
    "\n",
    "        # Mark as noise\n",
    "        if len(neighbors) < min_samples:\n",
    "            labels[i] = -1\n",
    "            continue\n",
    "\n",
    "        # New cluster\n",
    "        C += 1\n",
    "\n",
    "        # Assign cluster label to point\n",
    "        labels[i] = C\n",
    "\n",
    "        # Set of points to expand\n",
    "        S = list(neighbors)\n",
    "\n",
    "        i = 0\n",
    "        while i < len(S):\n",
    "            j = S[i]\n",
    "            if labels[j] == -1:\n",
    "                labels[j] = C\n",
    "            elif labels[j] == 0:\n",
    "                labels[j] = C\n",
    "                neighbors_j = np.where(np.linalg.norm(X - X[j], axis=1) <= eps)[0]\n",
    "                if len(neighbors_j) >= min_samples:\n",
    "                    S += list(set(neighbors_j) - set(S))\n",
    "            i += 1\n",
    "    # print(\"Number of Clusters: \", C)\n",
    "    return labels"
   ]
  },
  {
   "cell_type": "markdown",
   "metadata": {},
   "source": [
    "#### Labels Mapping Function with Ground Truth Labels with Majority Voting\n"
   ]
  },
  {
   "cell_type": "code",
   "execution_count": null,
   "metadata": {},
   "outputs": [],
   "source": [
    "def map_labels(y_true, y_pred):\n",
    "    # Get the unique labels in y_pred\n",
    "    unique_labels = np.unique(y_pred)\n",
    "\n",
    "    # Create a dictionary to map the labels\n",
    "    label_map = {}\n",
    "\n",
    "    for label in unique_labels:\n",
    "        if label != -1:  # Skip noise points\n",
    "            # Find the indices of points in this cluster\n",
    "            indices = np.where(y_pred == label)[0]\n",
    "\n",
    "            # Get the actual labels of these points\n",
    "            actual_labels = y_true[indices]\n",
    "\n",
    "            # Find the most common actual label\n",
    "            majority_label = mode(actual_labels).mode\n",
    "\n",
    "            # If majority_label is an array, take the first element\n",
    "            if isinstance(majority_label, np.ndarray):\n",
    "                majority_label = majority_label[0]\n",
    "\n",
    "            # Map the predicted label to the majority label\n",
    "            label_map[label] = majority_label\n",
    "\n",
    "    # Map the labels in y_pred\n",
    "    y_pred = np.array([label_map.get(label, -1) for label in y_pred])\n",
    "\n",
    "    return y_pred"
   ]
  },
  {
   "cell_type": "markdown",
   "metadata": {},
   "source": [
    "#### Entropy Calculation Function\n"
   ]
  },
  {
   "cell_type": "code",
   "execution_count": null,
   "metadata": {},
   "outputs": [],
   "source": [
    "def entropy_score(y_true, y_pred):\n",
    "    totalEntropy = 0\n",
    "    y_pred = y_pred.astype(int)\n",
    "    number_of_clusters = np.max(y_pred) + 1\n",
    "    for i in range(number_of_clusters):\n",
    "        entropy = 0\n",
    "        # Getting the label indices of the points in the cluster\n",
    "        labels = np.where(y_pred == i)\n",
    "\n",
    "        # Getting the actual labels of the points in the cluster\n",
    "        labels = y_true[labels]\n",
    "\n",
    "        # Getting the counts of each label in each cluster\n",
    "        labels, counts = np.unique(labels, return_counts=True)\n",
    "\n",
    "        entropy = -np.sum(counts / np.sum(counts) * np.log2(counts / np.sum(counts)))\n",
    "\n",
    "        totalEntropy += entropy\n",
    "\n",
    "    # Dividing by the number of clusters to get the average conditional entropy\n",
    "    totalEntropy /= number_of_clusters\n",
    "    return totalEntropy"
   ]
  },
  {
   "cell_type": "markdown",
   "metadata": {},
   "source": [
    "### Hyperparamters\n"
   ]
  },
  {
   "cell_type": "code",
   "execution_count": null,
   "metadata": {},
   "outputs": [],
   "source": [
    "# Method 1 testset best hyperparameters\n",
    "n_samples1 = 2\n",
    "eps1 = 1.8\n",
    "\n",
    "# Method 2 testset best hyperparameters\n",
    "n_samples2 = 10\n",
    "eps2 = 5"
   ]
  },
  {
   "cell_type": "markdown",
   "metadata": {},
   "source": [
    "### Implemented DBSCAN\n"
   ]
  },
  {
   "cell_type": "markdown",
   "metadata": {},
   "source": [
    "#### Method 1 (Mean)\n"
   ]
  },
  {
   "cell_type": "code",
   "execution_count": null,
   "metadata": {},
   "outputs": [],
   "source": [
    "y_pred = get_DBSCAN(X1, n_samples1, eps1)\n",
    "y_pred_mapped = map_labels(y1, y_pred)\n",
    "\n",
    "# Compute the accuracy\n",
    "precision = precision_score(y1, y_pred_mapped, average=\"weighted\")\n",
    "recall = recall_score(y1, y_pred_mapped, average=\"weighted\")\n",
    "f1 = f1_score(y1, y_pred_mapped, average=\"weighted\")\n",
    "entropy = entropy_score(y1, y_pred_mapped)\n",
    "\n",
    "print(\"Implemented DBSCAN Evaluation Metrics:\")\n",
    "print(\"Precision: {:.3f}%\".format(precision * 100))\n",
    "print(\"Recall:    {:.3f}%\".format(recall * 100))\n",
    "print(\"F1-Score:  {:.3f}%\".format(f1 * 100))\n",
    "print(\"Entropy:   {:.3f}\".format(entropy))"
   ]
  },
  {
   "cell_type": "markdown",
   "metadata": {},
   "source": [
    "#### Method 2 (Flatten)\n"
   ]
  },
  {
   "cell_type": "code",
   "execution_count": null,
   "metadata": {},
   "outputs": [],
   "source": [
    "y_pred = get_DBSCAN(X2, n_samples2, eps2)\n",
    "y_pred_mapped = map_labels(y2, y_pred)\n",
    "\n",
    "# Compute the accuracy\n",
    "precision = precision_score(y2, y_pred_mapped, average=\"weighted\")\n",
    "recall = recall_score(y2, y_pred_mapped, average=\"weighted\")\n",
    "f1 = f1_score(y2, y_pred_mapped, average=\"weighted\")\n",
    "entropy = entropy_score(y2, y_pred_mapped)\n",
    "\n",
    "print(\"Implemented DBSCAN Evaluation Metrics:\")\n",
    "print(\"Precision: {:.3f}%\".format(precision * 100))\n",
    "print(\"Recall:    {:.3f}%\".format(recall * 100))\n",
    "print(\"F1-Score:  {:.3f}%\".format(f1 * 100))\n",
    "print(\"Entropy:   {:.3f}\".format(entropy))"
   ]
  },
  {
   "cell_type": "markdown",
   "metadata": {},
   "source": [
    "### DBSCAN in Scikit-Learn\n"
   ]
  },
  {
   "cell_type": "markdown",
   "metadata": {},
   "source": [
    "#### Method 1 (Mean)\n"
   ]
  },
  {
   "cell_type": "code",
   "execution_count": null,
   "metadata": {},
   "outputs": [],
   "source": [
    "dbscan1 = DBSCAN(eps=eps1, min_samples=n_samples1)\n",
    "\n",
    "# Fit the model to the data\n",
    "dbscan1.fit(X1)\n",
    "\n",
    "# Print the cluster labels for each data point\n",
    "y_pred_sklearn = dbscan1.labels_\n",
    "num_clusters = len(np.unique(y_pred_sklearn[y_pred_sklearn != -1]))\n",
    "print(\"Number of clusters: \", num_clusters)\n",
    "y_pred_sklearn_mapped = map_labels(y1, y_pred_sklearn)\n",
    "\n",
    "precision = precision_score(y1, y_pred_sklearn_mapped, average=\"weighted\")\n",
    "recall = recall_score(y1, y_pred_sklearn_mapped, average=\"weighted\")\n",
    "f1 = f1_score(y1, y_pred_sklearn_mapped, average=\"weighted\")\n",
    "entropy = entropy_score(y1, y_pred_sklearn_mapped)\n",
    "\n",
    "print(\"Sklearn DBSCAN Evaluation Metrics:\")\n",
    "print(\"Precision: {:.3f}%\".format(precision * 100))\n",
    "print(\"Recall:    {:.3f}%\".format(recall * 100))\n",
    "print(\"F1-Score:  {:.3f}%\".format(f1 * 100))\n",
    "print(\"Entropy:   {:.3f}\".format(entropy))"
   ]
  },
  {
   "cell_type": "markdown",
   "metadata": {},
   "source": [
    "#### Method 2 (Flatten)\n"
   ]
  },
  {
   "cell_type": "code",
   "execution_count": null,
   "metadata": {},
   "outputs": [],
   "source": [
    "dbscan2 = DBSCAN(eps=eps2, min_samples=n_samples2)\n",
    "\n",
    "# Fit the model to the data\n",
    "dbscan2.fit(X2)\n",
    "\n",
    "# Print the cluster labels for each data point\n",
    "y_pred_sklearn = dbscan2.labels_\n",
    "num_clusters = len(np.unique(y_pred_sklearn[y_pred_sklearn != -1]))\n",
    "print(\"Number of clusters: \", num_clusters)\n",
    "y_pred_sklearn_mapped = map_labels(y2, y_pred_sklearn)\n",
    "\n",
    "precision = precision_score(y2, y_pred_sklearn_mapped, average=\"weighted\")\n",
    "recall = recall_score(y2, y_pred_sklearn_mapped, average=\"weighted\")\n",
    "f1 = f1_score(y2, y_pred_sklearn_mapped, average=\"weighted\")\n",
    "entropy = entropy_score(y2, y_pred_sklearn_mapped)\n",
    "\n",
    "print(\"Sklearn DBSCAN Evaluation Metrics:\")\n",
    "print(\"Precision: {:.3f}%\".format(precision * 100))\n",
    "print(\"Recall:    {:.3f}%\".format(recall * 100))\n",
    "print(\"F1-Score:  {:.3f}%\".format(f1 * 100))\n",
    "print(\"Entropy:   {:.3f}\".format(entropy))"
   ]
  }
 ],
 "metadata": {
  "kernelspec": {
   "display_name": "tf",
   "language": "python",
   "name": "python3"
  },
  "language_info": {
   "codemirror_mode": {
    "name": "ipython",
    "version": 3
   },
   "file_extension": ".py",
   "mimetype": "text/x-python",
   "name": "python",
   "nbconvert_exporter": "python",
   "pygments_lexer": "ipython3",
   "version": "3.10.12"
  }
 },
 "nbformat": 4,
 "nbformat_minor": 2
}

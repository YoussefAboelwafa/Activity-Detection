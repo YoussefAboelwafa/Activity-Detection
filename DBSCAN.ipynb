{
 "cells": [
  {
   "cell_type": "code",
   "execution_count": 1,
   "metadata": {},
   "outputs": [],
   "source": [
    "import numpy as np\n",
    "from sklearn.cluster import DBSCAN\n",
    "from DataMatrix import generate_data_matrix\n",
    "from scipy.stats import mode\n",
    "from sklearn.metrics import (\n",
    "    precision_score,\n",
    "    recall_score,\n",
    "    f1_score,\n",
    ")\n",
    "\n",
    "import warnings\n",
    "\n",
    "warnings.filterwarnings(\"ignore\")"
   ]
  },
  {
   "cell_type": "code",
   "execution_count": 2,
   "metadata": {},
   "outputs": [
    {
     "name": "stdout",
     "output_type": "stream",
     "text": [
      "X_test shape:  (1824, 45)\n",
      "y_train shape:  (7296,)\n",
      "X_test shape:  (1824, 45)\n",
      "y_test shape:  (1824,)\n"
     ]
    }
   ],
   "source": [
    "X_train1, y_train1, X_test1, y_test1 = generate_data_matrix(method=\"mean\")\n",
    "# X_train2, y_train2, X_test2, y_test2 = generate_data_matrix(method=\"flatten\")\n",
    "\n",
    "X1 = X_test1\n",
    "y1 = y_test1\n",
    "# X2 = X_test2\n",
    "# y2 = y_test2\n",
    "\n",
    "number_of_clusters = 0\n",
    "\n",
    "print(\"X_test shape: \", X_test1.shape)\n",
    "print(\"y_train shape: \", y_train1.shape)\n",
    "print(\"X_test shape: \", X_test1.shape)\n",
    "print(\"y_test shape: \", y_test1.shape)"
   ]
  },
  {
   "cell_type": "markdown",
   "metadata": {},
   "source": [
    "### DBSCAN Algorithm\n"
   ]
  },
  {
   "cell_type": "code",
   "execution_count": 11,
   "metadata": {},
   "outputs": [],
   "source": [
    "def get_DBSCAN(X, min_samples, eps):\n",
    "    # Initialize labels\n",
    "    labels = np.zeros(X.shape[0])\n",
    "\n",
    "    # C is the cluster counter\n",
    "    C = 0\n",
    "    for i in range(X.shape[0]):\n",
    "\n",
    "        # Skip if already labeled\n",
    "        if labels[i] != 0:\n",
    "            continue\n",
    "\n",
    "        # Find neighbors within eps\n",
    "        neighbors = np.where(np.linalg.norm(X - X[i], axis=1) <= eps)[0]\n",
    "\n",
    "        # Mark as noise initially\n",
    "        labels[i] = -1\n",
    "\n",
    "        # If point is a core point, assign a cluster label\n",
    "        if len(neighbors) >= min_samples:\n",
    "            C += 1  # New cluster\n",
    "            labels[i] = C  # Assign cluster label to core point\n",
    "            S = list(neighbors)  # Set of points to potentially add to the current cluster\n",
    "\n",
    "            j = 0\n",
    "            while j < len(S):\n",
    "                point = S[j]\n",
    "                neighbors_j = np.where(np.linalg.norm(X - X[point], axis=1) <= eps)[0]\n",
    "\n",
    "                # If the point is a core point, add its neighbors to S\n",
    "                if len(neighbors_j) >= min_samples:\n",
    "                    S += list(set(neighbors_j) - set(S))\n",
    "                    labels[point] = C  # Assign cluster label to core point\n",
    "                elif labels[point] == 0:\n",
    "                    labels[point] = C  # Assign cluster label to border point\n",
    "\n",
    "                j += 1\n",
    "    # print(\"Number of clusters: \", C)\n",
    "    return labels"
   ]
  },
  {
   "cell_type": "markdown",
   "metadata": {},
   "source": [
    "#### Labels Mapping Function with Ground Truth Labels with Majority Voting\n"
   ]
  },
  {
   "cell_type": "code",
   "execution_count": 4,
   "metadata": {},
   "outputs": [],
   "source": [
    "def map_labels(y_true, y_pred):\n",
    "    # Get the unique labels in y_pred\n",
    "    unique_labels = np.unique(y_pred)\n",
    "\n",
    "    # Create a dictionary to map the labels\n",
    "    label_map = {}\n",
    "\n",
    "    for label in unique_labels:\n",
    "        if label != -1:  # Skip noise points\n",
    "            # Find the indices of points in this cluster\n",
    "            indices = np.where(y_pred == label)[0]\n",
    "\n",
    "            # Get the actual labels of these points\n",
    "            actual_labels = y_true[indices]\n",
    "\n",
    "            # Find the most common actual label\n",
    "            majority_label = mode(actual_labels).mode\n",
    "\n",
    "            # If majority_label is an array, take the first element\n",
    "            if isinstance(majority_label, np.ndarray):\n",
    "                majority_label = majority_label[0]\n",
    "\n",
    "            # Map the predicted label to the majority label\n",
    "            label_map[label] = majority_label\n",
    "\n",
    "    # Map the labels in y_pred\n",
    "    y_pred = np.array([label_map.get(label, -1) for label in y_pred])\n",
    "\n",
    "    return y_pred"
   ]
  },
  {
   "cell_type": "markdown",
   "metadata": {},
   "source": [
    "#### Entropy Calculation Function\n"
   ]
  },
  {
   "cell_type": "code",
   "execution_count": 5,
   "metadata": {},
   "outputs": [],
   "source": [
    "def entropy_score(y_true, y_pred):\n",
    "    totalEntropy = 0\n",
    "    y_pred = y_pred.astype(int)\n",
    "    number_of_clusters = np.max(y_pred) + 1\n",
    "    for i in range(number_of_clusters):\n",
    "        entropy = 0\n",
    "        # Getting the label indices of the points in the cluster\n",
    "        labels = np.where(y_pred == i)\n",
    "\n",
    "        # Getting the actual labels of the points in the cluster\n",
    "        labels = y_true[labels]\n",
    "\n",
    "        # Getting the counts of each label in each cluster\n",
    "        labels, counts = np.unique(labels, return_counts=True)\n",
    "\n",
    "        entropy = -np.sum(counts / np.sum(counts) * np.log2(counts / np.sum(counts)))\n",
    "\n",
    "        totalEntropy += entropy\n",
    "\n",
    "    # Dividing by the number of clusters to get the average conditional entropy\n",
    "    totalEntropy /= number_of_clusters\n",
    "    return totalEntropy"
   ]
  },
  {
   "cell_type": "markdown",
   "metadata": {},
   "source": [
    "### Hyperparamters\n"
   ]
  },
  {
   "cell_type": "code",
   "execution_count": 6,
   "metadata": {},
   "outputs": [],
   "source": [
    "n_samples = 2\n",
    "eps = 1.8"
   ]
  },
  {
   "cell_type": "markdown",
   "metadata": {},
   "source": [
    "### Implemented DBSCAN\n"
   ]
  },
  {
   "cell_type": "markdown",
   "metadata": {},
   "source": [
    "#### Method 1 (Mean)\n"
   ]
  },
  {
   "cell_type": "code",
   "execution_count": 13,
   "metadata": {},
   "outputs": [
    {
     "name": "stdout",
     "output_type": "stream",
     "text": [
      "Implemented DBSCAN Evaluation Metrics:\n",
      "Precision: 92.150%\n",
      "Recall:    70.998%\n",
      "F1-Score:  76.615%\n",
      "Entropy:   0.107\n"
     ]
    }
   ],
   "source": [
    "y_pred = get_DBSCAN(X1, n_samples, eps)\n",
    "y_pred_mapped = map_labels(y1, y_pred)\n",
    "\n",
    "# Compute the accuracy\n",
    "precision = precision_score(y1, y_pred_mapped, average=\"weighted\")\n",
    "recall = recall_score(y1, y_pred_mapped, average=\"weighted\")\n",
    "f1 = f1_score(y1, y_pred_mapped, average=\"weighted\")\n",
    "entropy = entropy_score(y1, y_pred_mapped)\n",
    "\n",
    "print(\"Implemented DBSCAN Evaluation Metrics:\")\n",
    "print(\"Precision: {:.3f}%\".format(precision * 100))\n",
    "print(\"Recall:    {:.3f}%\".format(recall * 100))\n",
    "print(\"F1-Score:  {:.3f}%\".format(f1 * 100))\n",
    "print(\"Entropy:   {:.3f}\".format(entropy))"
   ]
  },
  {
   "cell_type": "markdown",
   "metadata": {},
   "source": [
    "#### Method 2 (Flatten)\n"
   ]
  },
  {
   "cell_type": "code",
   "execution_count": 8,
   "metadata": {},
   "outputs": [],
   "source": [
    "# y_pred = get_DBSCAN(X2, n_samples2, eps2)\n",
    "# y_pred_mapped = map_labels(y2, y_pred)\n",
    "\n",
    "# # Compute the accuracy\n",
    "# precision = precision_score(y2, y_pred_mapped, average=\"weighted\")\n",
    "# recall = recall_score(y2, y_pred_mapped, average=\"weighted\")\n",
    "# f1 = f1_score(y2, y_pred_mapped, average=\"weighted\")\n",
    "# entropy = entropy_score(y2, y_pred_mapped)\n",
    "\n",
    "# print(\"Implemented DBSCAN Evaluation Metrics:\")\n",
    "# print(\"Precision: {:.3f}%\".format(precision * 100))\n",
    "# print(\"Recall:    {:.3f}%\".format(recall * 100))\n",
    "# print(\"F1-Score:  {:.3f}%\".format(f1 * 100))\n",
    "# print(\"Entropy:   {:.3f}\".format(entropy))"
   ]
  },
  {
   "cell_type": "markdown",
   "metadata": {},
   "source": [
    "### DBSCAN in Scikit-Learn\n"
   ]
  },
  {
   "cell_type": "markdown",
   "metadata": {},
   "source": [
    "#### Method 1 (Mean)\n"
   ]
  },
  {
   "cell_type": "code",
   "execution_count": 14,
   "metadata": {},
   "outputs": [
    {
     "name": "stdout",
     "output_type": "stream",
     "text": [
      "Number of clusters:  189\n",
      "Sklearn DBSCAN Evaluation Metrics:\n",
      "Precision: 92.150%\n",
      "Recall:    70.998%\n",
      "F1-Score:  76.615%\n",
      "Entropy:   0.107\n"
     ]
    }
   ],
   "source": [
    "dbscan1 = DBSCAN(eps=eps, min_samples=n_samples)\n",
    "\n",
    "# Fit the model to the data\n",
    "dbscan1.fit(X1)\n",
    "\n",
    "# Print the cluster labels for each data point\n",
    "y_pred_sklearn = dbscan1.labels_\n",
    "num_clusters = len(np.unique(y_pred_sklearn[y_pred_sklearn != -1]))\n",
    "print(\"Number of clusters: \", num_clusters)\n",
    "y_pred_sklearn_mapped = map_labels(y1, y_pred_sklearn)\n",
    "\n",
    "precision = precision_score(y1, y_pred_sklearn_mapped, average=\"weighted\")\n",
    "recall = recall_score(y1, y_pred_sklearn_mapped, average=\"weighted\")\n",
    "f1 = f1_score(y1, y_pred_sklearn_mapped, average=\"weighted\")\n",
    "entropy = entropy_score(y1, y_pred_sklearn_mapped)\n",
    "\n",
    "print(\"Sklearn DBSCAN Evaluation Metrics:\")\n",
    "print(\"Precision: {:.3f}%\".format(precision * 100))\n",
    "print(\"Recall:    {:.3f}%\".format(recall * 100))\n",
    "print(\"F1-Score:  {:.3f}%\".format(f1 * 100))\n",
    "print(\"Entropy:   {:.3f}\".format(entropy))"
   ]
  },
  {
   "cell_type": "markdown",
   "metadata": {},
   "source": [
    "#### Method 2 (Flatten)\n"
   ]
  },
  {
   "cell_type": "code",
   "execution_count": 10,
   "metadata": {},
   "outputs": [],
   "source": [
    "# dbscan2 = DBSCAN(eps=eps2, min_samples=n_samples2)\n",
    "\n",
    "# # Fit the model to the data\n",
    "# dbscan2.fit(X2)\n",
    "\n",
    "# # Print the cluster labels for each data point\n",
    "# y_pred_sklearn = dbscan2.labels_\n",
    "# num_clusters = len(np.unique(y_pred_sklearn[y_pred_sklearn != -1]))\n",
    "# print(\"Number of clusters: \", num_clusters)\n",
    "# y_pred_sklearn_mapped = map_labels(y2, y_pred_sklearn)\n",
    "\n",
    "# precision = precision_score(y2, y_pred_sklearn_mapped, average=\"weighted\")\n",
    "# recall = recall_score(y2, y_pred_sklearn_mapped, average=\"weighted\")\n",
    "# f1 = f1_score(y2, y_pred_sklearn_mapped, average=\"weighted\")\n",
    "# entropy = entropy_score(y2, y_pred_sklearn_mapped)\n",
    "\n",
    "# print(\"Sklearn DBSCAN Evaluation Metrics:\")\n",
    "# print(\"Precision: {:.3f}%\".format(precision * 100))\n",
    "# print(\"Recall:    {:.3f}%\".format(recall * 100))\n",
    "# print(\"F1-Score:  {:.3f}%\".format(f1 * 100))\n",
    "# print(\"Entropy:   {:.3f}\".format(entropy))"
   ]
  }
 ],
 "metadata": {
  "kernelspec": {
   "display_name": "tf",
   "language": "python",
   "name": "python3"
  },
  "language_info": {
   "codemirror_mode": {
    "name": "ipython",
    "version": 3
   },
   "file_extension": ".py",
   "mimetype": "text/x-python",
   "name": "python",
   "nbconvert_exporter": "python",
   "pygments_lexer": "ipython3",
   "version": "3.10.12"
  }
 },
 "nbformat": 4,
 "nbformat_minor": 2
}

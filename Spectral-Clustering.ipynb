{
 "cells": [
  {
   "cell_type": "markdown",
   "metadata": {},
   "source": [
    "# Spectral calustering"
   ]
  },
  {
   "cell_type": "markdown",
   "metadata": {},
   "source": [
    "### Important libraries"
   ]
  },
  {
   "cell_type": "code",
   "execution_count": 1,
   "metadata": {},
   "outputs": [],
   "source": [
    "import numpy as np\n",
    "import matplotlib.pyplot as plt\n",
    "from sklearn.cluster import KMeans\n",
    "from sklearn.preprocessing import normalize\n",
    "from sklearn.metrics import pairwise_distances\n",
    "from DataMatrix import generate_data_matrix\n",
    "from sklearn.neighbors import kneighbors_graph\n",
    "import warnings\n",
    "warnings.filterwarnings(\"ignore\")"
   ]
  },
  {
   "cell_type": "markdown",
   "metadata": {},
   "source": [
    "## Spectral clustering implementation"
   ]
  },
  {
   "cell_type": "markdown",
   "metadata": {},
   "source": [
    "- similarity matrix"
   ]
  },
  {
   "cell_type": "code",
   "execution_count": 2,
   "metadata": {},
   "outputs": [],
   "source": [
    "def similarity_matrix(X, sigma=0.1):\n",
    "    pairwise_sq_dists = np.square(pairwise_distances(X, metric='euclidean'))\n",
    "    return np.exp(-pairwise_sq_dists / (2. * sigma ** 2))"
   ]
  },
  {
   "cell_type": "code",
   "execution_count": 3,
   "metadata": {},
   "outputs": [],
   "source": [
    "def knn_similarity_matrix(X, n_neighbors=10):\n",
    "    return kneighbors_graph(X, n_neighbors=n_neighbors, mode='connectivity', include_self=True).toarray()"
   ]
  },
  {
   "cell_type": "code",
   "execution_count": 4,
   "metadata": {},
   "outputs": [],
   "source": [
    "def consine_similarity_matrix(X):\n",
    "    X = normalize(X)\n",
    "    return X.dot(X.T)"
   ]
  },
  {
   "cell_type": "markdown",
   "metadata": {},
   "source": [
    "- laplacian-a matrix"
   ]
  },
  {
   "cell_type": "code",
   "execution_count": 5,
   "metadata": {},
   "outputs": [],
   "source": [
    "def laplacian_a_matrix(W):\n",
    "    D = np.diag(np.sum(W, axis=1))\n",
    "    D_inv = np.linalg.inv(D)\n",
    "    I = np.eye(len(D))\n",
    "    return I - np.dot(D_inv, W)\n"
   ]
  },
  {
   "cell_type": "code",
   "execution_count": 6,
   "metadata": {},
   "outputs": [],
   "source": [
    "def normalized_laplacian(W):\n",
    "    D = np.diag(np.sum(W, axis=1))\n",
    "    D_sqrt_inv = np.diag(1.0 / np.sqrt(np.sum(W, axis=1)))\n",
    "    return np.dot(D_sqrt_inv, np.dot(D - W, D_sqrt_inv))"
   ]
  },
  {
   "cell_type": "markdown",
   "metadata": {},
   "source": [
    "- spectral clustering"
   ]
  },
  {
   "cell_type": "code",
   "execution_count": 7,
   "metadata": {},
   "outputs": [],
   "source": [
    "def spectral_clustering(X, n_clusters=19,sim='ecu' ,laplacian='a',n_neighbours=10,sigma=0.1):\n",
    "    if sim == \"ecu\":\n",
    "        W = similarity_matrix(X, sigma)\n",
    "    elif sim == \"cos\":\n",
    "        W = consine_similarity_matrix(X)\n",
    "    else:\n",
    "        W = knn_similarity_matrix(X,n_neighbors=n_neighbours)\n",
    "    if laplacian == 'a':\n",
    "        L = laplacian_a_matrix(W)\n",
    "    else:\n",
    "        L = normalized_laplacian(W)\n",
    "    eigenvalues, eigenvectors = np.linalg.eig(L)\n",
    "    idx = eigenvalues.argsort()  \n",
    "    eigenvalues = eigenvalues[idx]\n",
    "    eigenvectors = eigenvectors[:, idx]\n",
    "    eigenvectors = np.real(eigenvectors)\n",
    "    norm_eigenvectors = normalize(eigenvectors[:, :n_clusters], norm='l2', axis=1)\n",
    "    kmeans = KMeans(n_clusters=n_clusters, random_state=0).fit(norm_eigenvectors)\n",
    "    return kmeans"
   ]
  },
  {
   "cell_type": "markdown",
   "metadata": {},
   "source": [
    "### load the data in the first solution method `Mean Method`"
   ]
  },
  {
   "cell_type": "code",
   "execution_count": 8,
   "metadata": {},
   "outputs": [
    {
     "name": "stdout",
     "output_type": "stream",
     "text": [
      "X_train shape:  (7296, 45)\n",
      "y_train shape:  (7296, 1)\n",
      "X_test shape:  (1824, 45)\n",
      "y_test shape:  (1824, 1)\n"
     ]
    }
   ],
   "source": [
    "x_train,y_train,x_test,y_test = generate_data_matrix(method=\"mean\")\n",
    "print(\"X_train shape: \", x_train.shape)\n",
    "print(\"y_train shape: \", y_train.shape)\n",
    "print(\"X_test shape: \", x_test.shape)\n",
    "print(\"y_test shape: \", y_test.shape)"
   ]
  },
  {
   "cell_type": "code",
   "execution_count": 72,
   "metadata": {},
   "outputs": [],
   "source": [
    "model1 = spectral_clustering(x_test, n_clusters=19,sim=\"knn\",laplacian='a',n_neighbours=75)"
   ]
  },
  {
   "cell_type": "code",
   "execution_count": 73,
   "metadata": {},
   "outputs": [],
   "source": [
    "labels1=model1.labels_"
   ]
  },
  {
   "cell_type": "markdown",
   "metadata": {},
   "source": [
    "### load the data in the second solution method `Flatten Method`"
   ]
  },
  {
   "cell_type": "code",
   "execution_count": 31,
   "metadata": {},
   "outputs": [
    {
     "name": "stdout",
     "output_type": "stream",
     "text": [
      "X_train shape:  (7296, 870)\n",
      "y_train shape:  (7296, 1)\n",
      "X_test shape:  (1824, 870)\n",
      "y_test shape:  (1824, 1)\n"
     ]
    }
   ],
   "source": [
    "x_f_train, y_f_train, x_f_test, y_f_test= generate_data_matrix(method=\"flatten\")\n",
    "print(\"X_train shape: \", x_f_train.shape)\n",
    "print(\"y_train shape: \", y_f_train.shape)\n",
    "print(\"X_test shape: \", x_f_test.shape)\n",
    "print(\"y_test shape: \", y_f_test.shape)"
   ]
  },
  {
   "cell_type": "code",
   "execution_count": 75,
   "metadata": {},
   "outputs": [],
   "source": [
    "model2 = spectral_clustering(x_f_test, n_clusters=19,sim=\"knn\",laplacian='a',n_neighbours=100)"
   ]
  },
  {
   "cell_type": "code",
   "execution_count": 79,
   "metadata": {},
   "outputs": [
    {
     "data": {
      "text/plain": [
       "array([18, 18, 18, ..., 10,  5,  1], dtype=int32)"
      ]
     },
     "execution_count": 79,
     "metadata": {},
     "output_type": "execute_result"
    }
   ],
   "source": [
    "labels2=model2.labels_"
   ]
  },
  {
   "cell_type": "markdown",
   "metadata": {},
   "source": [
    "## Measurement method "
   ]
  },
  {
   "cell_type": "code",
   "execution_count": 64,
   "metadata": {},
   "outputs": [],
   "source": [
    "def construct_clusters(true_labels,labels):\n",
    "    clusters = {}\n",
    "    for i in range(len(true_labels)):\n",
    "        if labels[i] in clusters:\n",
    "            clusters[labels[i]].append(true_labels[i])\n",
    "        else:\n",
    "            clusters[labels[i]]=[true_labels[i]]        \n",
    "    return clusters"
   ]
  },
  {
   "cell_type": "markdown",
   "metadata": {},
   "source": [
    "### Entropy method"
   ]
  },
  {
   "cell_type": "code",
   "execution_count": 15,
   "metadata": {},
   "outputs": [],
   "source": [
    "def conditional_entropy(clusters,n_samples):\n",
    "    H = 0\n",
    "    for cluster in clusters.values():\n",
    "        n = len(cluster)\n",
    "        s=-sum([(cluster.count(label)/n) * np.log2(cluster.count(label)/n) for label in set(cluster)])\n",
    "        H += (n/n_samples) * s\n",
    "    return H"
   ]
  },
  {
   "cell_type": "markdown",
   "metadata": {},
   "source": [
    "### Precision & Recall method"
   ]
  },
  {
   "cell_type": "code",
   "execution_count": 16,
   "metadata": {},
   "outputs": [],
   "source": [
    "def precision_recall(clusters):\n",
    "    precision = 0\n",
    "    recall = 0\n",
    "    for cluster in clusters.values():\n",
    "        mx=0\n",
    "        val=0\n",
    "        for i in set(cluster):\n",
    "            x=cluster.count(i)\n",
    "            if x > mx:\n",
    "                mx = x\n",
    "                val = i\n",
    "        p = mx/len(cluster)\n",
    "        num_val=mx\n",
    "        for cluster2 in clusters.values():\n",
    "            if cluster != cluster2:\n",
    "                num_val+=cluster2.count(val)\n",
    "        r = mx/num_val\n",
    "        precision += p\n",
    "        recall += r\n",
    "        \n",
    "    return precision/len(clusters),recall/len(clusters)"
   ]
  },
  {
   "cell_type": "markdown",
   "metadata": {},
   "source": [
    "### F1 score method"
   ]
  },
  {
   "cell_type": "code",
   "execution_count": 17,
   "metadata": {},
   "outputs": [],
   "source": [
    "def f_measure( clusters):\n",
    "    f = 0\n",
    "    num_clusters = len(clusters)\n",
    "    for cluster in clusters.values():\n",
    "        mx=0\n",
    "        val=0\n",
    "        for i in set(cluster):\n",
    "            x=cluster.count(i)\n",
    "            if x > mx:\n",
    "                mx = x\n",
    "                val = i\n",
    "        p = mx/len(cluster)\n",
    "        num_val=mx\n",
    "        for cluster2 in clusters.values():\n",
    "            if cluster != cluster2:\n",
    "                num_val+=cluster2.count(val)\n",
    "        r = mx/num_val\n",
    "        f += (2*p*r)/(p+r)\n",
    "    return f/num_clusters"
   ]
  },
  {
   "cell_type": "code",
   "execution_count": null,
   "metadata": {},
   "outputs": [],
   "source": [
    "def get_metrics(true_labels,labels):\n",
    "    clusters=construct_clusters(true_labels,labels)\n",
    "    n_samples = len(true_labels)\n",
    "    H = conditional_entropy(clusters,n_samples)\n",
    "    precision,recall = precision_recall(clusters)\n",
    "    f = f_measure(clusters)\n",
    "    return H,precision,recall,f"
   ]
  },
  {
   "cell_type": "markdown",
   "metadata": {},
   "source": [
    "## Comparison of the first and second methods"
   ]
  },
  {
   "cell_type": "code",
   "execution_count": 80,
   "metadata": {},
   "outputs": [
    {
     "name": "stdout",
     "output_type": "stream",
     "text": [
      "Method 1\n",
      "Conditional Entropy:  1.2212962277954815\n",
      "Precision:  0.6623967725461605\n",
      "Recall:  0.6452850877192983\n",
      "F-measure:  0.635062575359446\n",
      "Method 2\n",
      "Conditional Entropy:  1.2874077738157095\n",
      "Precision:  0.6595693858100173\n",
      "Recall:  0.6277412280701755\n",
      "F-measure:  0.6203440895890981\n",
      "Difference in Conditional Entropy:  -0.06611154602022795\n",
      "Difference in Precision:  0.0028273867361431337\n",
      "Difference in Recall:  0.01754385964912275\n",
      "Difference in F-measure:  0.014718485770347844\n"
     ]
    },
    {
     "data": {
      "image/png": "[encoded data removed]",
      "text/plain": [
       "<Figure size 640x480 with 1 Axes>"
      ]
     },
     "metadata": {},
     "output_type": "display_data"
    }
   ],
   "source": [
    "def compare_methods(true_labels,labels1,labels2):\n",
    "    H1,precision1,recall1,f1 = get_metrics(true_labels,labels1)\n",
    "    H2,precision2,recall2,f2 = get_metrics(true_labels,labels2)\n",
    "    print(\"Method 1\")\n",
    "    print(\"Conditional Entropy: \",H1)\n",
    "    print(\"Precision: \",precision1)\n",
    "    print(\"Recall: \",recall1)\n",
    "    print(\"F-measure: \",f1)\n",
    "    print(\"Method 2\")\n",
    "    print(\"Conditional Entropy: \",H2)\n",
    "    print(\"Precision: \",precision2)\n",
    "    print(\"Recall: \",recall2)\n",
    "    print(\"F-measure: \",f2)\n",
    "    print(\"Difference in Conditional Entropy: \",H1-H2)\n",
    "    print(\"Difference in Precision: \",precision1-precision2)\n",
    "    print(\"Difference in Recall: \",recall1-recall2)\n",
    "    print(\"Difference in F-measure: \",f1-f2)\n",
    "    \n",
    "    # bar chart with results\n",
    "    labels = ['Conditional Entropy', 'Precision', 'Recall', 'F-measure']\n",
    "    method1 = [H1, precision1, recall1, f1]\n",
    "    method2 = [H2, precision2, recall2, f2]\n",
    "    x = np.arange(len(labels))  # the label locations\n",
    "    width = 0.35  # the width of the bars\n",
    "    \n",
    "    fig, ax = plt.subplots()\n",
    "    rects1 = ax.bar(x - width/2, method1, width, label='Method 1')\n",
    "    rects2 = ax.bar(x + width/2, method2, width, label='Method 2')\n",
    "    ax.set_ylabel('Scores')\n",
    "    ax.set_title('Scores by method and metric')\n",
    "    ax.set_xticks(x)\n",
    "    ax.set_xticklabels(labels)\n",
    "    ax.legend()\n",
    "    \n",
    "    fig.tight_layout()\n",
    "    plt.show()\n",
    "    \n",
    "compare_methods(y_test.flatten(),labels1,labels2)"
   ]
  },
  {
   "cell_type": "markdown",
   "metadata": {},
   "source": [
    "## Comparisons between Spectral Clustering and Kmeans"
   ]
  },
  {
   "cell_type": "markdown",
   "metadata": {},
   "source": [
    "## Hyperparameter tuning"
   ]
  },
  {
   "cell_type": "code",
   "execution_count": 68,
   "metadata": {},
   "outputs": [],
   "source": [
    "def spectral_clustering_analysis(X_train, n_clusters=19):\n",
    "    labels={}\n",
    "    sim = [\"ecu\",\"cos\", \"knn\"]\n",
    "    laplacian = [\"a\", \"l\"]\n",
    "    n_neighbours = [15,20,50,100,150]\n",
    "    sigma = [0.01,0.1, 0.5, 1]\n",
    "    for s in sim:\n",
    "        for l in laplacian:\n",
    "            if s == \"knn\":\n",
    "                for n in n_neighbours:\n",
    "                    kmean = spectral_clustering(X_train, n_clusters=n_clusters, sim=s, laplacian=l, n_neighbours=n)\n",
    "                    print(s+\"_\"+l+\"_\"+str(n))\n",
    "                    labels[s+\"_\"+l+\"_\"+str(n)] = kmean.labels_\n",
    "            else:\n",
    "                for sig in sigma:\n",
    "                    kmean = spectral_clustering(X_train, n_clusters=n_clusters, sim=s, laplacian=l, sigma=sig)\n",
    "                    print(s+\"_\"+l+\"_\"+str(sig))\n",
    "                    labels[s+\"_\"+l+\"_\"+str(sig)] = kmean.labels_\n",
    "                    \n",
    "    return labels"
   ]
  },
  {
   "cell_type": "code",
   "execution_count": 69,
   "metadata": {},
   "outputs": [],
   "source": [
    "def get_best_params(labels,y_test):\n",
    "    metrics = {}\n",
    "    best_key = \"\"\n",
    "    for key in labels:\n",
    "        H,precision,recall,f = get_metrics(y_test.flatten(),labels[key])\n",
    "        metrics[key] = [H,precision,recall,f]\n",
    "        if best_key == \"\":\n",
    "            best_key = key\n",
    "        elif H < metrics[best_key][0]:\n",
    "            best_key = key\n",
    "    print(best_key)\n",
    "    print(metrics[best_key])\n",
    "    return metrics\n",
    "\n",
    "def plot_metrics(metrics):\n",
    "    H = []\n",
    "    precision = []\n",
    "    recall = []\n",
    "    f = []\n",
    "    for key in metrics:\n",
    "        H.append(metrics[key][0])\n",
    "        precision.append(metrics[key][1])\n",
    "        recall.append(metrics[key][2])\n",
    "        f.append(metrics[key][3])\n",
    "\n",
    "    plt.figure(figsize=(10, 5))\n",
    "    plt.plot(H, label=\"Conditional Entropy\")\n",
    "    plt.plot(precision, label=\"Precision\")\n",
    "    plt.plot(recall, label=\"Recall\")\n",
    "    plt.plot(f, label=\"F-Measure\")\n",
    "    plt.legend()\n",
    "    plt.show()\n",
    "    \n"
   ]
  },
  {
   "cell_type": "code",
   "execution_count": null,
   "metadata": {},
   "outputs": [],
   "source": [
    "labels_dic= spectral_clustering_analysis(x_test, n_clusters=19)\n",
    "metrics = get_best_params(labels_dic,y_test)\n",
    "plot_metrics(metrics)"
   ]
  },
  {
   "cell_type": "code",
   "execution_count": 81,
   "metadata": {},
   "outputs": [
    {
     "name": "stdout",
     "output_type": "stream",
     "text": [
      "knn_a_100\n",
      "[1.2874077738157095, 0.6595693858100173, 0.6277412280701755, 0.6203440895890981]\n"
     ]
    },
    {
     "data": {
      "image/png": "[encoded data removed]",
      "text/plain": [
       "<Figure size 1000x500 with 1 Axes>"
      ]
     },
     "metadata": {},
     "output_type": "display_data"
    }
   ],
   "source": [
    "metrics = get_best_params(labels_dic,y_test)\n",
    "plot_metrics(metrics)\n"
   ]
  },
  {
   "cell_type": "code",
   "execution_count": null,
   "metadata": {},
   "outputs": [],
   "source": [
    "labels_dic= spectral_clustering_analysis(x_f_test, n_clusters=19)\n",
    "metrics = get_best_params(labels_dic,y_f_test)\n",
    "plot_metrics(metrics)"
   ]
  },
  {
   "cell_type": "code",
   "execution_count": 82,
   "metadata": {},
   "outputs": [
    {
     "name": "stdout",
     "output_type": "stream",
     "text": [
      "knn_a_100\n",
      "[1.2874077738157095, 0.6595693858100173, 0.6277412280701755, 0.6203440895890981]\n"
     ]
    },
    {
     "data": {
      "image/png": "[encoded data removed]",
      "text/plain": [
       "<Figure size 1000x500 with 1 Axes>"
      ]
     },
     "metadata": {},
     "output_type": "display_data"
    }
   ],
   "source": [
    "metrics = get_best_params(labels_dic,y_test)\n",
    "plot_metrics(metrics)"
   ]
  }
 ],
 "metadata": {
  "kernelspec": {
   "display_name": "Python 3",
   "language": "python",
   "name": "python3"
  },
  "language_info": {
   "codemirror_mode": {
    "name": "ipython",
    "version": 3
   },
   "file_extension": ".py",
   "mimetype": "text/x-python",
   "name": "python",
   "nbconvert_exporter": "python",
   "pygments_lexer": "ipython3",
   "version": "3.10.12"
  },
  "orig_nbformat": 4
 },
 "nbformat": 4,
 "nbformat_minor": 2
}
